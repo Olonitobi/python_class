{
 "cells": [
  {
   "cell_type": "code",
   "execution_count": 1,
   "id": "bcd92208",
   "metadata": {},
   "outputs": [],
   "source": [
    "import pymysql"
   ]
  },
  {
   "cell_type": "code",
   "execution_count": 2,
   "id": "062477aa",
   "metadata": {},
   "outputs": [],
   "source": [
    "mydb = pymysql.connect(\n",
    "     host ='localhost',\n",
    "     port = 3306,\n",
    "     user = 'root',\n",
    "    password = 'Olonisakin1'\n",
    ")\n",
    "mycursor= mydb.cursor()"
   ]
  },
  {
   "cell_type": "code",
   "execution_count": 3,
   "id": "2c3038f3",
   "metadata": {},
   "outputs": [
    {
     "name": "stdout",
     "output_type": "stream",
     "text": [
      "('earlycodeacademy',)\n",
      "('earlycodeacademy2',)\n",
      "('information_schema',)\n",
      "('king',)\n",
      "('loveacademy',)\n",
      "('mysql',)\n",
      "('olamide',)\n",
      "('performance_schema',)\n",
      "('primeacademy',)\n",
      "('sakila',)\n",
      "('sys',)\n",
      "('waecreg',)\n",
      "('world',)\n"
     ]
    }
   ],
   "source": [
    "mycursor.execute('show databases')\n",
    "for x in mycursor:\n",
    "    print(x)"
   ]
  },
  {
   "cell_type": "code",
   "execution_count": 5,
   "id": "2195a598",
   "metadata": {},
   "outputs": [
    {
     "name": "stdout",
     "output_type": "stream",
     "text": [
      "('earlycodeacademy',)\n",
      "('earlycodeacademy2',)\n",
      "('information_schema',)\n",
      "('jamb',)\n",
      "('king',)\n",
      "('loveacademy',)\n",
      "('mysql',)\n",
      "('olamide',)\n",
      "('performance_schema',)\n",
      "('primeacademy',)\n",
      "('sakila',)\n",
      "('sys',)\n",
      "('waecreg',)\n",
      "('world',)\n"
     ]
    }
   ],
   "source": [
    "mycursor.execute('create database jamb')\n",
    "mycursor.execute('show databases')\n",
    "for x in mycursor:\n",
    "    print(x)"
   ]
  },
  {
   "cell_type": "code",
   "execution_count": 14,
   "id": "ea2c0388",
   "metadata": {},
   "outputs": [],
   "source": [
    "mydb = pymysql.connect(\n",
    "     host ='localhost',\n",
    "     port = 3306,\n",
    "     user = 'root',\n",
    "    password = 'Olonisakin1',\n",
    "    database='jamb'\n",
    ")\n",
    "mycursor= mydb.cursor()"
   ]
  },
  {
   "cell_type": "code",
   "execution_count": 15,
   "id": "a24edaf8",
   "metadata": {},
   "outputs": [
    {
     "name": "stdout",
     "output_type": "stream",
     "text": [
      "('jamb_id', 'int', 'NO', 'PRI', None, '')\n",
      "('name', 'varchar(255)', 'NO', '', None, '')\n",
      "('age', 'int', 'NO', '', None, '')\n",
      "('gender', 'varchar(50)', 'NO', '', None, '')\n",
      "('dob', 'date', 'NO', '', None, '')\n",
      "('address', 'text', 'NO', '', None, '')\n",
      "('nin', 'int', 'NO', '', None, '')\n",
      "('payment', 'varchar(255)', 'NO', '', None, '')\n",
      "('first_choice', 'varchar(50)', 'NO', '', None, '')\n"
     ]
    }
   ],
   "source": [
    "mycursor.execute('create table reg(jamb_id int primary key not null,name varchar(255)not null,age int not null,gender varchar(50)not null,dob date not null,address text not null,nin int not null,payment varchar(255)not null, first_choice varchar(50)not null)')\n",
    "mycursor.execute('show columns from reg')\n",
    "for x in mycursor:\n",
    "    print(x)"
   ]
  },
  {
   "cell_type": "code",
   "execution_count": 25,
   "id": "bbec1dde",
   "metadata": {},
   "outputs": [],
   "source": [
    "def accept_jamb_record():\n",
    "    jamb_id = int(input('Enter reg jamb_ID:'))\n",
    "    name = input(\"Enter reg name: \")\n",
    "    age = int(input(\"Enter reg age: \"))\n",
    "    gender = input(\"Enter reg gender: \")\n",
    "    dob = input(\"Enter reg date of birth (YYYY-MM-DD): \")\n",
    "    address = input(\"Enter reg address: \")\n",
    "    nin = input(\"Enter nin: \")\n",
    "    payment = input('enter teller number:')\n",
    "    first_choice = input(\"Enter university first choice: \")\n",
    "    \n",
    "    query = 'insert into reg(jamb_id,name,age,gender,dob,address,nin,payment,first_choice)values(%s,%s,%s,%s,%s,%s,%s,%s,%s)'\n",
    "    mycursor.execute(query,(jamb_id,name,age,gender,dob,address,nin,payment,first_choice))\n",
    "    mydb.commit()\n",
    "    print('Record inserted successfully..........')\n",
    "    \n",
    "def display_jamb_record():\n",
    "    mycursor.execute('select* from reg')\n",
    "    for x in mycursor:\n",
    "        print(x)\n",
    "        \n",
    "def update_jamb_record():\n",
    "    jamb_id = int(input('Enter search ID:'))\n",
    "    column = input('enter the column to be updated:')\n",
    "    newval = input ('enter the new valuve:')\n",
    "    query = f'update reg set {column} =%s where jamb_id = %s'\n",
    "    mycursor.execute(query,(newval,jamb_id))\n",
    "    mydb.commit()\n",
    "    print('record update successfully....')\n",
    "    \n",
    "    \n",
    "def clear_jamb_record():\n",
    "    jamb_id = int(input('Enter ID to be deleted bitch:'))\n",
    "    query = 'delete from reg where jamb_id =%s'\n",
    "    mycursor.execute(query,(jamb_id,))\n",
    "    mydb.commit()\n",
    "    print('record archived successfully................................ ')\n",
    "    \n",
    "def search_jamb_record():\n",
    "    jamb_id = int(input('Enter search ID:'))\n",
    "        \n",
    "    query = 'select * from reg where id =\"%s\"'\n",
    "    mycursor.execute(query,(jamb_id,))\n",
    "    result = mycursor.fetchall()\n",
    "    if len(result)==0:\n",
    "        print('record not found')\n",
    "    else:\n",
    "        for x in rsult:\n",
    "            print(x)\n",
    "    \n",
    "    \n",
    "def main():\n",
    "    print('welcome to jamb reg')\n",
    "    print('select operation [accept,display,update,clear,search,exit]')\n",
    "    operation=True\n",
    "    while operation:\n",
    "        option = input('select operation:')\n",
    "        if option == 'accept'.lower():\n",
    "            accept_jamb_record()\n",
    "        elif option == 'display'.lower():\n",
    "            display_jamb_record()\n",
    "        elif option == 'update'.lower():\n",
    "             update_jamb_record()\n",
    "        elif option == 'clear'.lower():\n",
    "            clear_jamb_record()\n",
    "        elif option == 'search'.lower():\n",
    "            search_jamb_record()\n",
    "        elif option == 'exit'.lower():\n",
    "                operation = False\n",
    "                print('GOODBYE BITCH....................')\n",
    "                break\n",
    "    \n",
    "    "
   ]
  },
  {
   "cell_type": "code",
   "execution_count": 26,
   "id": "af5a536f",
   "metadata": {},
   "outputs": [
    {
     "name": "stdout",
     "output_type": "stream",
     "text": [
      "welcome to jamb reg\n",
      "select operation [accept,display,update,clear,search,exit]\n",
      "select operation:clear\n",
      "Enter ID to be deleted bitch:12\n",
      "record archived successfully................................ \n",
      "select operation:display\n",
      "(22, 'Emma', 22, 'male', datetime.date(2002, 12, 12), 'no 4 okoro street', 23458, '1234', 'afe')\n",
      "select operation:exit\n",
      "GOODBYE BITCH....................\n"
     ]
    }
   ],
   "source": [
    "main()"
   ]
  },
  {
   "cell_type": "markdown",
   "id": "cc396fb5",
   "metadata": {},
   "source": []
  }
 ],
 "metadata": {
  "kernelspec": {
   "display_name": "Python 3 (ipykernel)",
   "language": "python",
   "name": "python3"
  },
  "language_info": {
   "codemirror_mode": {
    "name": "ipython",
    "version": 3
   },
   "file_extension": ".py",
   "mimetype": "text/x-python",
   "name": "python",
   "nbconvert_exporter": "python",
   "pygments_lexer": "ipython3",
   "version": "3.11.4"
  }
 },
 "nbformat": 4,
 "nbformat_minor": 5
}
